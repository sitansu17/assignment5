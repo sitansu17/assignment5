{
 "cells": [
  {
   "cell_type": "code",
   "execution_count": 3,
   "id": "3abb64ee",
   "metadata": {},
   "outputs": [
    {
     "name": "stdout",
     "output_type": "stream",
     "text": [
      "100\n"
     ]
    }
   ],
   "source": [
    "#Write a Python class to implement pow(x, n)\n",
    "#Explanation:\n",
    "#Use should be able to find the nth power of the x.(i.e x*x*x*x...n times)\n",
    "#You must implement it using Class\n",
    "#Sample Input:\n",
    "#x: 10\n",
    "#n: 2\n",
    "#Sample Output:\n",
    "#100\n",
    "#ANSWER:\n",
    "class pr:\n",
    "    def __init__(self,x,n):\n",
    "        self.x=x\n",
    "        self.n=n\n",
    "        self.result=0\n",
    "    def npr(self):\n",
    "        self.result=pow(self.x,self.n)\n",
    "        print(self.result)\n",
    "p=pr(10,2)\n",
    "p.npr()"
   ]
  },
  {
   "cell_type": "code",
   "execution_count": null,
   "id": "168d777a",
   "metadata": {},
   "outputs": [],
   "source": []
  }
 ],
 "metadata": {
  "kernelspec": {
   "display_name": "Python 3",
   "language": "python",
   "name": "python3"
  },
  "language_info": {
   "codemirror_mode": {
    "name": "ipython",
    "version": 3
   },
   "file_extension": ".py",
   "mimetype": "text/x-python",
   "name": "python",
   "nbconvert_exporter": "python",
   "pygments_lexer": "ipython3",
   "version": "3.8.8"
  }
 },
 "nbformat": 4,
 "nbformat_minor": 5
}
